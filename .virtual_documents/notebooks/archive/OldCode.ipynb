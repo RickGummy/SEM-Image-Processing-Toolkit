# Set up libraries
import cv2
import numpy as np
import matplotlib.pyplot as plt
from scipy.spatial import distance
from scipy.spatial import KDTree


# Circularity function
def circularity(contour):
  area = cv2.contourArea(contour)
  perimeter = cv2.arcLength(contour, True)
  if(perimeter == 0):
    return 0
  return (4 * np.pi * area) / (perimeter ** 2)


# Overview
# Loads Image, Convert to grayscale, apply binary thresholding
# Find contours, calculate perimeter area circularity
# Filter based on thresholds
def process_image(image_path):
    # Load image
    image = cv2.imread(image_path, cv2.IMREAD_COLOR)
    assert image is not None, "Not found, check with os.path.exists() with os module"

    # Convert image from BGR to grayscale
    gray_image = cv2.cvtColor(np.array(image), cv2.COLOR_BGR2GRAY)

    # Enhance contrast using CLAHE
    clahe = cv2.createCLAHE(clipLimit=2.0, tileGridSize=(8, 8))
    enhanced_image = clahe.apply(gray_image)

    # Apply Gaussian Blur to smooth the image
    blurred_image = cv2.GaussianBlur(enhanced_image, (5, 5), 0)

    # Apply binary thresholding for edge detection,
    _, threshold_image = cv2.threshold(blurred_image, 125, 255, cv2.THRESH_BINARY_INV + cv2.THRESH_OTSU)
    # 128 can be changed to make it less or more sensitive
    # Makes edges white on a black background

    # Find contours
    contours, _ = cv2.findContours(threshold_image, cv2.RETR_EXTERNAL, cv2.CHAIN_APPROX_SIMPLE)

    # Calculate perimeter, area, and circularity for each contour
    contour_data = []
    for contour in contours:
        perimeter = cv2.arcLength(contour, True)
        area = cv2.contourArea(contour)
        circ = circularity(contour)
        contour_data.append((contour, perimeter, area, circ))

    # Set thresholds for contours
    max_area_threshold = 30000
    area_threshold = 1000
    min_area_threshold = 100  # Minimum area to filter out tiny circles
    min_circularity_threshold = 0.5
    max_circularity_threshold = 1.5

    # Filter contours based on circularity and area
    filtered_contours = [data for data in contour_data if
                         ((min_area_threshold < data[2] < max_area_threshold)  and
                          (min_circularity_threshold <= data[3] <= max_circularity_threshold)) or
                          (min_area_threshold < data[2] < max_area_threshold)]

    # Draw filtered contours on the original image
    final_contour_image = np.array(image)
    for i, data in enumerate(filtered_contours):
        cv2.drawContours(final_contour_image, [data[0]], -1, (255, 0, 255), 1)  # Filtered contours in purple

        # Calculate the centroid
        M = cv2.moments(data[0])
        if M['m00'] != 0:
            cx = int(M['m10'] / M['m00'])
            cy = int(M['m01'] / M['m00'])
            # Annotate the contour with its index
            cv2.putText(final_contour_image, f"{i}", (cx, cy), cv2.FONT_HERSHEY_SIMPLEX, 0.8, (0, 0, 255), 2)
            print(f"Contour {i}: Centroid at ({cx}, {cy})")
        else:
            print(f"Contour {i}: Centroid not found (area too small).")

    # Display the image with filtered contours and axes
    plt.figure(figsize=(8, 6))
    plt.imshow(cv2.cvtColor(final_contour_image, cv2.COLOR_BGR2RGB))
    plt.xlabel('X-axis')
    plt.ylabel('Y-axis')
    plt.title('Filtered Contours with Indices and Centroids')
    plt.show()

    return image, filtered_contours, final_contour_image


# Use to manually exclusion contours, cause I don't know how to make an interactive environment
image_path = ('/Users/rickgummy/sem-image-processing-toolkit/data/raw/C1-3_A_m06.tif')
image, contours, final_contour_image = process_image(image_path)


# Overview
# Loads Image, Convert to grayscale, apply binary thresholding
# Find contours, calculate perimeter area circularity
# Filter based on thresholds
def process_image_with_exclusion(image_path, exclude_coords):
    # Load image
    image = cv2.imread(image_path, cv2.IMREAD_COLOR)
    assert image is not None, "Not found, check with os.path.exists() with os module"

    # Convert image from BGR to grayscale
    gray_image = cv2.cvtColor(np.array(image), cv2.COLOR_BGR2GRAY)

    # Enhance contrast using CLAHE
    clahe = cv2.createCLAHE(clipLimit=2.0, tileGridSize=(8, 8))
    enhanced_image = clahe.apply(gray_image)

    # Apply Gaussian Blur to smooth the image
    blurred_image = cv2.GaussianBlur(enhanced_image, (5, 5), 0)

    # Apply binary thresholding for edge detection
    _, threshold_image = cv2.threshold(blurred_image, 125, 255, cv2.THRESH_BINARY_INV + cv2.THRESH_OTSU)

    # Find contours
    contours, _ = cv2.findContours(threshold_image, cv2.RETR_EXTERNAL, cv2.CHAIN_APPROX_SIMPLE)

    # Calculate perimeter, area, and circularity for each contour
    contour_data = []
    for contour in contours:
        perimeter = cv2.arcLength(contour, True)
        area = cv2.contourArea(contour)
        circ = circularity(contour)
        contour_data.append((contour, perimeter, area, circ))

    # Set thresholds for contours
    max_area_threshold = 20000
    area_threshold = 1000
    min_area_threshold = 100  # Minimum area to filter out tiny circles
    min_circularity_threshold = 0.5
    max_circularity_threshold = 1.5

    # Filter contours based on circularity and area
    filtered_contours = []
    for data in contour_data:
        if ((min_area_threshold < data[2] < max_area_threshold) and (min_circularity_threshold <= data[3] <= max_circularity_threshold)) or (min_area_threshold < data[2] < max_area_threshold):
            # Calculate the centroid
            M = cv2.moments(data[0])
            if M['m00'] != 0:
                cx = int(M['m10'] / M['m00'])
                cy = int(M['m01'] / M['m00'])
                if (cx, cy) not in exclude_coords:
                    filtered_contours.append(data)
            else:
                filtered_contours.append(data)

    # Draw filtered contours on the original image
    final_contour_image = np.array(image)
    cv2.drawContours(final_contour_image, [data[0] for data in filtered_contours], -1, (255, 0, 255), 2)  # Filtered contours in purple

    # Display the image with filtered contours
    plt.figure(figsize=(8, 6))
    plt.imshow(cv2.cvtColor(final_contour_image, cv2.COLOR_BGR2RGB))
    plt.axis('off')
    plt.title('Filtered Contours based on exclusion list')
    plt.show()

    return image, filtered_contours, area_threshold, final_contour_image


def bounding_box_overlap(box1, box2, margin = 35):
  return not(box1[2] + margin < box2[0] or # box1 right < box2 left
             box1[0] - margin > box2[2] or # box1 left > box2 right
             box1[3] + margin < box2[1] or # box1 bottom < box2 top
             box1[1] - margin > box2[3])   # box1 top > box2 bottom


# Calculate centroids of contours
# Using KDTree to find neighboring contours
# Find closest points between neighboring contours
# Draw lines showing closest distances
def cwDistance(image, contours, area_threshold, max_neighbors = 8, max_distance = 100, min_distance = 5):
  distances = []
  line_coords = []
  contour_pairs = set()

  # Calculate the centroids and bounding boxes for small contours only
  centroids = []
  bounding_boxes = []
  for data in contours:
    contour = data[0]
    M = cv2.moments(contour)
    if M['m00'] != 0:
      cx = int(M['m10'] / M['m00'])
      cy = int(M['m01'] / M['m00'])
      centroids.append((cx, cy))
    else:
      centroids.append((0, 0))
    x, y, w, h = cv2.boundingRect(contour)
    bounding_boxes.append((x, y, x + w, y + h))

  print(f"Number of centroids: {len(centroids)}")

  # Create a KDTree for the centroids
  tree = KDTree(centroids)

  for i, data1 in enumerate(contours):
    contour1 = data1[0]
    points1 = contour1[:, 0, :] # extract points from contour1
    tree1 = KDTree(points1)

    # Find indices of the closest neighboring centroids
    distances_to_neighbors, neighbor_indices = tree.query(centroids[i], k=max_neighbors + 1)
    neighbor_indicies = neighbor_indices[1:] # Excludes itself

    for j in neighbor_indices:
      if i == j in contour_pairs or (j, i) in contour_pairs:
        continue
      if bounding_box_overlap(bounding_boxes[i], bounding_boxes[j]):
        contour2 = contours[j][0]
        points2 = contour2[:, 0, :] # extract points from contour2
        tree2 = KDTree(points2)

        # Find the closest point between contour1 and contour2
        min_dist = float('inf')
        closest_points = None
        for point in points1:
          dist, idx = tree2.query(point)
          if dist < min_dist:
            min_dist = dist
            closest_points = (tuple(point), tuple(points2[idx]))

        for point in points2:
          dist, idx = tree1.query(point)
          if dist < min_dist:
            min_dist = dist
            closest_points = (tuple(points1[idx]), tuple(point))

        print(f"Min distance found between contours: {min_dist}")

        # Stores and draws the closest points
        if closest_points and min_distance <= min_dist <= max_distance:
          distances.append(min_dist)
          line_coords.append(closest_points)
          cv2.line(image,closest_points[0], closest_points[1], (0, 0, 255), 2)
          contour_pairs.add((i, j))
        else:
           print(f"No valid distance found for contours {i} and {j} (min_distance={min_distance}, max_distance={max_distance})")

  # Draw contours
  cv2.drawContours(image, [data[0] for data in contours], -1, (0, 255, 0), 1) # Big contours in blue

  """
  # Save distances as file
  with open('distances.txt', 'w') as f:
    for dist in distances:
      f.write(f'{dist}\n')
  """

  # Display image with lines
  plt.figure(figsize = (14, 12))
  plt.imshow(cv2.cvtColor(image, cv2.COLOR_BGR2RGB))
  plt.axis('off')
  plt.title('Contours with Cell Wall Distances max_neighbors = 10, max_distance = 200, min_distance = 5')
  plt.show()

  return distances, line_coords


def remove_outliers(data):
  q1 = np.percentile(data, 25)
  q3 = np.percentile(data, 75)
  iqr = q3 - q1
  lower_bound = q1 - 1.5 * iqr
  upper_bound = q3 + 1.5 * iqr
  return [x for x in data if lower_bound <= x <= upper_bound]


def calculate_and_plot_statistics(image, contours):
  # Remove outliers from distances and calculate the average
  median_thickness = np.median(distances)
  print(f'Median cell wall thickness: {median_thickness:.2f}')
  filtered_distances = remove_outliers(distances)
  average_thickness = np.mean(filtered_distances)
  print(f'Average cell wall thickness(without outliers): {average_thickness: .2f} pixels')

  # Calculate areas of big and small contours
  areas = [data[2] for data in contours]

  filtered_areas = remove_outliers(areas)
  average_area = np.mean(filtered_areas)
  print(f'Average cell area(without outliers): {average_area: .2f} pixels^2')

  # Plot box plots for distances
  plt.figure(figsize = (14, 7))

  plt.subplot(1, 2, 1)
  plt.boxplot(distances, vert = True, patch_artist = True)
  plt.title('Cell Wall thickness(include outliers)')
  plt.xlabel('Thickness (pixels)')

  plt.subplot(1, 2, 2)
  plt.boxplot(areas, vert = True, patch_artist=True)
  plt.title('Contour Areas (including outliers)')
  plt.xlabel('Area (pixels^2)')

  plt.tight_layout()
  plt.show()


image_path = ('/Users/rickgummy/sem-image-processing-toolkit/data/raw/C1-3_A_m06.tif')
exclude_coords = []
image, contours, area_threshold, final_contour_image = process_image_with_exclusion(image_path, exclude_coords)
distances, line_coords = cwDistance(image, contours,area_threshold, max_neighbors = 8, max_distance = 100, min_distance = 5)
calculate_and_plot_statistics(image, contours)



