import os
import cv2
import matplotlib.pyplot as plt
import sys
sys.path.append('/Users/rickgummy/sem-image-processing-toolkit/src')
from preprocessing import preprocess_image
from contour_detection import find_contours, filter_contours, draw_contours


# Load preprocessed image
preprocessed_image_path = '/Users/rickgummy/sem-image-processing-toolkit/data/processed/C1-3_A_m06_preprocessed.tif'
preprocessed_image = cv2.imread(preprocessed_image_path, cv2.IMREAD_GRAYSCALE)

# Find contours
contours = find_contours(preprocessed_image)

#Filter contours based on defined thresholds
filtered_contours = filter_contours(contours)


# Draw filtered contours on the original image
original_image_path = '/Users/rickgummy/sem-image-processing-toolkit/data/raw/C1-3_A_m06.tif'
original_image = cv2.imread(original_image_path, cv2.IMREAD_COLOR)
image_with_contours = draw_contours(original_image, filtered_contours)

# Save the image with contours
output_path = '/Users/rickgummy/sem-image-processing-toolkit/data/processed/C1-3_A_m06_with_contours.tif'
cv2.imwrite(output_path, image_with_contours)

# Display the image with contours
plt.imshow(cv2.cvtColor(image_with_contours, cv2.COLOR_BGR2RGB))
plt.title('Filtered Contours')
plt.axis('off')
plt.show()
