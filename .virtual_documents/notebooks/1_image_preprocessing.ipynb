# Import libraries
import os
import cv2
import matplotlib.pyplot as plt
import sys
from preprocessing import preprocess_image


# Load Raw Image
image_path = '/Users/rickgummy/sem-image-processing-toolkit/data/raw/C1-3_A_m06.tif'
preprocessed_image = preprocess_image(image_path)


# Save preprocessed image
output_path = '/Users/rickgummy/sem-image-processing-toolkit/data/processed/preprocessed_image.tif'
cv2.imwrite(output_path, preprocessed_image)


# Displays Image
plt.imshow(preprocessed_image, cmap = 'gray')
plt.title('Preprocessed Image')
plt.axis('off')
plt.show()
